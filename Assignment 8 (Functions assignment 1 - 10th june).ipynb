{
 "cells": [
  {
   "cell_type": "markdown",
   "id": "2b5482f0",
   "metadata": {},
   "source": [
    "## Q1. In Python, what is the difference between a built-in function and a user-defined function? Provide an example of each."
   ]
  },
  {
   "cell_type": "markdown",
   "id": "0dd2fe0f",
   "metadata": {},
   "source": [
    "In Python, the main difference between a built-in function and a user-defined function lies in their origin and availability.\n",
    "\n",
    "### A. Built-in functions: \n",
    "These are functions that are pre-defined in Python and are available for use without requiring any additional code. They are part of the Python language itself and provide a range of functionality. Built-in functions are typically written in C or Python and are optimized for performance."
   ]
  },
  {
   "cell_type": "code",
   "execution_count": 1,
   "id": "bab962ca",
   "metadata": {},
   "outputs": [
    {
     "name": "stdout",
     "output_type": "stream",
     "text": [
      "5\n"
     ]
    }
   ],
   "source": [
    "# Example of Built in functions:\n",
    "my_list = [1, 2, 3, 4, 5]\n",
    "length = len(my_list)\n",
    "print(length)  # Output: 5"
   ]
  },
  {
   "cell_type": "markdown",
   "id": "fbf5f813",
   "metadata": {},
   "source": [
    "### B. User-defined functions: \n",
    "These are functions created by the user to perform a specific task or a series of tasks. User-defined functions are defined using the def keyword followed by a function name, a set of parameters (optional), and a block of code to be executed when the function is called.\n"
   ]
  },
  {
   "cell_type": "code",
   "execution_count": 2,
   "id": "6f3aac94",
   "metadata": {},
   "outputs": [
    {
     "name": "stdout",
     "output_type": "stream",
     "text": [
      "25\n"
     ]
    }
   ],
   "source": [
    "# Example of user defined functions:\n",
    "def calculate_square(number):\n",
    "    square = number ** 2\n",
    "    return square\n",
    "\n",
    "result = calculate_square(5)\n",
    "print(result)  # Output: 25"
   ]
  },
  {
   "cell_type": "markdown",
   "id": "734c5abe",
   "metadata": {},
   "source": [
    "## 2. How can you pass arguments to a function in Python? Explain the difference between positional arguments and keyword arguments."
   ]
  },
  {
   "cell_type": "markdown",
   "id": "6713c2eb",
   "metadata": {},
   "source": [
    "In Python, there are several ways to pass arguments to a function. The two main methods are:\n",
    "\n",
    "### A. Positional arguments: \n",
    "Positional arguments are passed to a function based on their position or order. The function parameters receive the values in the same order as they are passed when calling the function. The number and order of the arguments must match the function definition."
   ]
  },
  {
   "cell_type": "code",
   "execution_count": 3,
   "id": "8bf8087b",
   "metadata": {},
   "outputs": [
    {
     "name": "stdout",
     "output_type": "stream",
     "text": [
      "Hello Alice! You are 25 years old.\n"
     ]
    }
   ],
   "source": [
    "def greet(name, age):\n",
    "    print(f\"Hello {name}! You are {age} years old.\")\n",
    "\n",
    "greet(\"Alice\", 25)"
   ]
  },
  {
   "cell_type": "markdown",
   "id": "886a3b59",
   "metadata": {},
   "source": [
    "In this example, the greet() function takes two positional arguments: name and age. When calling the function, \n",
    "- \"Alice\" is passed as the first argument, which maps to the name parameter, and \n",
    "- 25 is passed as the second argument, which maps to the age parameter. \n",
    "\n",
    "The function then prints a personalized greeting."
   ]
  },
  {
   "cell_type": "markdown",
   "id": "128e28f8",
   "metadata": {},
   "source": [
    "### B. Keyword arguments: \n",
    "Keyword arguments are passed to a function with their corresponding parameter names. Instead of relying on the order, you explicitly mention the parameter name and its associated value when calling the function. This provides more flexibility and allows you to skip or reorder arguments."
   ]
  },
  {
   "cell_type": "code",
   "execution_count": 11,
   "id": "efdd5f96",
   "metadata": {},
   "outputs": [
    {
     "name": "stdout",
     "output_type": "stream",
     "text": [
      "Hello Alice! You are 25 years old.\n"
     ]
    }
   ],
   "source": [
    "def greet(name, age):\n",
    "    print(f\"Hello {name}! You are {age} years old.\")\n",
    "\n",
    "greet(age=25, name=\"Alice\")"
   ]
  },
  {
   "cell_type": "markdown",
   "id": "5e5d9271",
   "metadata": {},
   "source": [
    "In this case, the greet() function is called with keyword arguments. The arguments are passed with their corresponding parameter names (age and name), and their values are assigned accordingly. This allows for a different order of arguments when calling the function."
   ]
  },
  {
   "cell_type": "markdown",
   "id": "39c665df",
   "metadata": {},
   "source": [
    "## 3. What is the purpose of the return statement in a function? Can a function have multiple return statements? Explain with an example."
   ]
  },
  {
   "cell_type": "markdown",
   "id": "7f40e056",
   "metadata": {},
   "source": [
    "The return statement in a function serves the purpose of specifying the value that should be returned by the function when it is called. It allows the function to pass data or results back to the code that called it. Once a return statement is encountered in a function, the function execution is immediately halted, and the specified value is returned to the caller.\n",
    "\n",
    "if we are not using the Return statement the function will fail to return the answer of that particular query! Here is an example:"
   ]
  },
  {
   "cell_type": "code",
   "execution_count": 12,
   "id": "827bf8d5",
   "metadata": {},
   "outputs": [
    {
     "name": "stdout",
     "output_type": "stream",
     "text": [
      "The difference is : None\n",
      "The difference is : 3\n"
     ]
    }
   ],
   "source": [
    "# in the first case you can see no return statement so the output is NONE!\n",
    "def sub_numbers(n1, n2):\n",
    "    sub = n1 - n2\n",
    "\n",
    "result = sub_numbers(5,2)\n",
    "print(\"The difference is :\", result)\n",
    "\n",
    "# in the second case you can see the return statement so it is resturning a output!\n",
    "def sub_numbers(n1, n2):\n",
    "    sub = n1 - n2\n",
    "    return sub\n",
    "\n",
    "result = sub_numbers(5,2)\n",
    "print(\"The difference is :\", result)"
   ]
  },
  {
   "cell_type": "markdown",
   "id": "92ff6044",
   "metadata": {},
   "source": [
    "## Q4. What are lambda functions in Python? How are they different from regular functions? Provide an example where a lambda function can be useful."
   ]
  },
  {
   "cell_type": "markdown",
   "id": "694a18ac",
   "metadata": {},
   "source": [
    "Lambda functions:\n",
    "Also known as anonymous functions, are small, one-line functions in Python that are defined without a name. They are created using the lambda keyword and are typically used for simple and concise operations.\n",
    "\n",
    "- lambda arguments: expression\n",
    "\n",
    "Lambda functions can take any number of arguments but can only have a single expression. The result of the expression is returned automatically when the lambda function is called.\n",
    "\n",
    "#### Lambda functions differ from regular functions in a few key ways:\n",
    "\n",
    "1. No function name: Lambda functions are defined without a name, which makes them anonymous functions. They are typically used when you need a small, throwaway function without the need for a named function definition.\n",
    "2. Single expression: Lambda functions can only consist of a single expression. This simplicity allows for concise and compact code.\n",
    "\n",
    "3. Implicit return: The result of the expression in a lambda function is automatically returned. You don't need to write a return statement explicitly.\n",
    "\n",
    "Lambda functions are often used when you need a simple function for a short and immediate operation, such as passing a function as an argument to another function, working with iterators, or performing quick calculations."
   ]
  },
  {
   "cell_type": "code",
   "execution_count": 14,
   "id": "8cefb1c1",
   "metadata": {},
   "outputs": [
    {
     "name": "stdout",
     "output_type": "stream",
     "text": [
      "Enter a no: 2\n",
      "\n",
      "Square of the no entered is:\n",
      "8\n"
     ]
    }
   ],
   "source": [
    "# find cube lambda function\n",
    "\n",
    "x = int(input(\"Enter a no: \"))\n",
    "square = lambda x : x **3\n",
    "\n",
    "print(\"\\nSquare of the no entered is:\")\n",
    "print(square (x))"
   ]
  },
  {
   "cell_type": "markdown",
   "id": "80301aa3",
   "metadata": {},
   "source": [
    "## Q5. How does the concept of \"scope\" apply to functions in Python? Explain the difference between local scope and global scope."
   ]
  },
  {
   "cell_type": "markdown",
   "id": "b0d05443",
   "metadata": {},
   "source": [
    "In Python, the concept of \"scope\" refers to the visibility and accessibility of variables within different parts of a program. It determines where and how variables can be accessed and modified. The scope is determined by the block in which a variable is defined.\n",
    "\n",
    "### A. Local scope: \n",
    "Variables defined inside a function have a local scope. They are only accessible within that specific function. Local variables are created when the function is called and are destroyed when the function execution completes."
   ]
  },
  {
   "cell_type": "code",
   "execution_count": 16,
   "id": "147f2194",
   "metadata": {},
   "outputs": [
    {
     "name": "stdout",
     "output_type": "stream",
     "text": [
      "10\n"
     ]
    },
    {
     "ename": "NameError",
     "evalue": "name 'k' is not defined",
     "output_type": "error",
     "traceback": [
      "\u001b[1;31m---------------------------------------------------------------------------\u001b[0m",
      "\u001b[1;31mNameError\u001b[0m                                 Traceback (most recent call last)",
      "\u001b[1;32m~\\AppData\\Local\\Temp\\ipykernel_15396\\3833632317.py\u001b[0m in \u001b[0;36m<module>\u001b[1;34m\u001b[0m\n\u001b[0;32m      5\u001b[0m \u001b[0mmy_function\u001b[0m\u001b[1;33m(\u001b[0m\u001b[1;33m)\u001b[0m  \u001b[1;31m# Output: 10\u001b[0m\u001b[1;33m\u001b[0m\u001b[1;33m\u001b[0m\u001b[0m\n\u001b[0;32m      6\u001b[0m \u001b[1;33m\u001b[0m\u001b[0m\n\u001b[1;32m----> 7\u001b[1;33m \u001b[0mprint\u001b[0m\u001b[1;33m(\u001b[0m\u001b[0mk\u001b[0m\u001b[1;33m)\u001b[0m  \u001b[1;31m# Raises NameError: name 'x' is not defined\u001b[0m\u001b[1;33m\u001b[0m\u001b[1;33m\u001b[0m\u001b[0m\n\u001b[0m",
      "\u001b[1;31mNameError\u001b[0m: name 'k' is not defined"
     ]
    }
   ],
   "source": [
    "def my_function():\n",
    "    k = 10  # Local variable\n",
    "    print(k)\n",
    "\n",
    "my_function()  # Output: 10\n",
    "\n",
    "print(k)  # Raises NameError: name 'k' is not defined\n"
   ]
  },
  {
   "cell_type": "markdown",
   "id": "f53973b4",
   "metadata": {},
   "source": [
    "### B. Global scope: \n",
    "Variables defined outside of any function or at the module level have a global scope. They are accessible throughout the entire program, including inside functions."
   ]
  },
  {
   "cell_type": "code",
   "execution_count": 17,
   "id": "792e48f5",
   "metadata": {},
   "outputs": [
    {
     "name": "stdout",
     "output_type": "stream",
     "text": [
      "10\n",
      "10\n"
     ]
    }
   ],
   "source": [
    "p = 10  # Global variable\n",
    "\n",
    "def my_function():\n",
    "    print(p)\n",
    "\n",
    "my_function()  # Output: 10\n",
    "\n",
    "print(p)  # Output: 10\n"
   ]
  },
  {
   "cell_type": "markdown",
   "id": "bc99cf6e",
   "metadata": {},
   "source": [
    "When accessing a variable within a function, Python follows a concept called \"scope resolution\" to determine which variable to use. It first checks the local scope (function's local variables) and then moves to the global scope (module-level variables). If a variable is not found in the local scope, Python looks for it in the global scope.\n",
    "\n",
    "If you want to modify a global variable from within a function, you need to use the global keyword to indicate that the variable is not local but is the global variable with the same name."
   ]
  },
  {
   "cell_type": "code",
   "execution_count": 19,
   "id": "b74ce291",
   "metadata": {},
   "outputs": [
    {
     "name": "stdout",
     "output_type": "stream",
     "text": [
      "50\n"
     ]
    }
   ],
   "source": [
    "p = 10\n",
    "\n",
    "def modify_global():\n",
    "    global p  # Declare p as a global variable\n",
    "    p *= 5\n",
    "\n",
    "modify_global()\n",
    "print(p)  # Output: 50\n"
   ]
  },
  {
   "cell_type": "markdown",
   "id": "7f9a782f",
   "metadata": {},
   "source": [
    "## Q6. How can you use the \"return\" statement in a Python function to return multiple values?"
   ]
  },
  {
   "cell_type": "markdown",
   "id": "941c27ce",
   "metadata": {},
   "source": [
    "In Python, the return statement in a function can be used to return multiple values by combining them into a single data structure. There are a few ways to achieve this:\n",
    "\n",
    "Using a list: Similar to using a tuple, you can return multiple values as a list. A list is an ordered, mutable sequence of elements enclosed in square brackets [ ]. By creating a list and returning it, you can return multiple values as a list."
   ]
  },
  {
   "cell_type": "code",
   "execution_count": 20,
   "id": "56f171aa",
   "metadata": {},
   "outputs": [
    {
     "name": "stdout",
     "output_type": "stream",
     "text": [
      "['Projesh', 28, 'Kolkata']\n"
     ]
    }
   ],
   "source": [
    "def get_details():\n",
    "    name = \"Projesh\"\n",
    "    age = 28\n",
    "    city = \"Kolkata\"\n",
    "    return [name, age, city]\n",
    "\n",
    "result = get_details()\n",
    "print(result)  # Output: ['Projesh', 28, 'Kolkata']\n"
   ]
  },
  {
   "cell_type": "markdown",
   "id": "0aba2348",
   "metadata": {},
   "source": [
    "## Q7. What is the difference between the \"pass by value\" and \"pass by reference\" concepts when it comes to function arguments in Python?"
   ]
  },
  {
   "cell_type": "markdown",
   "id": "83a04d37",
   "metadata": {},
   "source": [
    "In Python, the concepts of \"pass by value\" and \"pass by reference\" are not applicable in the same way as in some other programming languages. Instead, Python uses a combination of both concepts based on the type of the object being passed as an argument to a function.\n",
    "\n",
    "To understand this, it's essential to know how objects are stored and referenced in Python.\n",
    "\n",
    "#### A. Immutable objects: \n",
    "\n",
    "Immutable objects such as numbers, strings, and tuples cannot be modified once they are created. When you pass an immutable object as an argument to a function, a new copy of the object is created. Any modifications made to the object within the function do not affect the original object outside the function.\n",
    "\n",
    "Here's an example to demonstrate this behavior:"
   ]
  },
  {
   "cell_type": "code",
   "execution_count": 21,
   "id": "27897153",
   "metadata": {},
   "outputs": [
    {
     "name": "stdout",
     "output_type": "stream",
     "text": [
      "Inside function: 15\n",
      "Outside function: 5\n"
     ]
    }
   ],
   "source": [
    "def modify_value(num):\n",
    "    num += 10\n",
    "    print(\"Inside function:\", num)\n",
    "\n",
    "value = 5\n",
    "modify_value(value)\n",
    "print(\"Outside function:\", value)\n"
   ]
  },
  {
   "cell_type": "markdown",
   "id": "b0ee2136",
   "metadata": {},
   "source": [
    "#### B. Mutable objects: \n",
    "Mutable objects such as lists, dictionaries, and user-defined objects can be modified. When you pass a mutable object as an argument to a function, the reference to the original object is passed. Any modifications made to the object within the function directly affect the original object.\n",
    "\n",
    "Here's an example to illustrate this behavior:"
   ]
  },
  {
   "cell_type": "code",
   "execution_count": 22,
   "id": "e700acee",
   "metadata": {},
   "outputs": [
    {
     "name": "stdout",
     "output_type": "stream",
     "text": [
      "Inside function: [1, 2, 3, 4]\n",
      "Outside function: [1, 2, 3, 4]\n"
     ]
    }
   ],
   "source": [
    "def modify_list(my_list):\n",
    "    my_list.append(4)\n",
    "    print(\"Inside function:\", my_list)\n",
    "\n",
    "my_list = [1, 2, 3]\n",
    "modify_list(my_list)\n",
    "print(\"Outside function:\", my_list)\n"
   ]
  },
  {
   "cell_type": "markdown",
   "id": "6278a642",
   "metadata": {},
   "source": [
    "## Q8 . Create a function that can intake integer or decimal value and do following operations:"
   ]
  },
  {
   "cell_type": "code",
   "execution_count": 34,
   "id": "b2de9617",
   "metadata": {},
   "outputs": [
    {
     "name": "stdout",
     "output_type": "stream",
     "text": [
      "Enter a no to find log: 10\n",
      "Enter the base of the log: 10\n",
      "Log of the no  10.0  is:  1.0\n"
     ]
    }
   ],
   "source": [
    "# Logarithmic function (log x)\n",
    "import math\n",
    "\n",
    "def logs():\n",
    "    x = float(input('Enter a no to find log: '))\n",
    "    y= float(input('Enter the base of the log: '))\n",
    "    \n",
    "    result = math.log(x,y)\n",
    "    print(\"Log of the no \", x, \" is: \", result)\n",
    "logs()"
   ]
  },
  {
   "cell_type": "code",
   "execution_count": 37,
   "id": "79af1284",
   "metadata": {},
   "outputs": [
    {
     "name": "stdout",
     "output_type": "stream",
     "text": [
      "Enter a no to find EXP: 2\n",
      "Exponent of the no  2.0  is:  7.38905609893065\n"
     ]
    }
   ],
   "source": [
    "# Exponential function (exp(x))\n",
    "\n",
    "def expo():\n",
    "    x = float(input('Enter a no to find EXP: '))\n",
    "    \n",
    "    result = math.exp(x)\n",
    "    print(\"Exponent of the no \", x, \" is: \", result)\n",
    "expo()"
   ]
  },
  {
   "cell_type": "code",
   "execution_count": 42,
   "id": "9df3b040",
   "metadata": {},
   "outputs": [
    {
     "name": "stdout",
     "output_type": "stream",
     "text": [
      "Enter a no to find EXP: 3\n",
      "2 to the power  3.0  is:  8.0\n"
     ]
    }
   ],
   "source": [
    "# Power function with base 2 (2^x)\n",
    "\n",
    "def power_function():\n",
    "    x = float(input('Enter a no to find EXP: '))\n",
    "    \n",
    "    result = 2 ** x\n",
    "    print(\"2 to the power \", x, \" is: \", result)\n",
    "power_function()"
   ]
  },
  {
   "cell_type": "code",
   "execution_count": 39,
   "id": "e61d1bef",
   "metadata": {},
   "outputs": [
    {
     "name": "stdout",
     "output_type": "stream",
     "text": [
      "Enter the no to find Sq Root: 16\n",
      "Square root of the no given by you:  4.0\n"
     ]
    }
   ],
   "source": [
    "# find square root of a no\n",
    "\n",
    "def square_root(num = int(input(\"Enter the no to find Sq Root: \"))):\n",
    "    sq_root = math.sqrt(num)\n",
    "    print(\"Square root of the no given by you: \", sq_root)\n",
    "square_root()         "
   ]
  },
  {
   "cell_type": "markdown",
   "id": "9e4b9a91",
   "metadata": {},
   "source": [
    "## Q9. Create a function that takes a full name as an argument and returns first name and last name."
   ]
  },
  {
   "cell_type": "code",
   "execution_count": 40,
   "id": "f9228938",
   "metadata": {},
   "outputs": [
    {
     "name": "stdout",
     "output_type": "stream",
     "text": [
      "Enter your full name: Projesh Paul\n",
      "Your First Name is:  Projesh\n",
      "Your Last Name is:  Paul\n"
     ]
    }
   ],
   "source": [
    "def split_names():\n",
    "    name = str(input(\"Enter your full name: \"))\n",
    "    result = name.split()\n",
    "    fname = result [0]\n",
    "    lname = result [-1]\n",
    "    \n",
    "    print(\"Your First Name is: \", fname)\n",
    "    print(\"Your Last Name is: \", lname)\n",
    "split_names()"
   ]
  },
  {
   "cell_type": "code",
   "execution_count": null,
   "id": "00a7675a",
   "metadata": {},
   "outputs": [],
   "source": []
  }
 ],
 "metadata": {
  "kernelspec": {
   "display_name": "Python 3 (ipykernel)",
   "language": "python",
   "name": "python3"
  },
  "language_info": {
   "codemirror_mode": {
    "name": "ipython",
    "version": 3
   },
   "file_extension": ".py",
   "mimetype": "text/x-python",
   "name": "python",
   "nbconvert_exporter": "python",
   "pygments_lexer": "ipython3",
   "version": "3.9.13"
  }
 },
 "nbformat": 4,
 "nbformat_minor": 5
}
